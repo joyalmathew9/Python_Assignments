{
 "cells": [
  {
   "cell_type": "markdown",
   "id": "d5cb5a22",
   "metadata": {},
   "source": [
    "### 1. Write a Python Program to Display Fibonacci Sequence Using Recursion?"
   ]
  },
  {
   "cell_type": "code",
   "execution_count": 1,
   "id": "56be443e",
   "metadata": {},
   "outputs": [
    {
     "name": "stdout",
     "output_type": "stream",
     "text": [
      "Enter the number of terms5\n",
      "Printing fibonacci series for 5 terms....\n",
      "0\n",
      "1\n",
      "1\n",
      "2\n",
      "3\n"
     ]
    }
   ],
   "source": [
    "def fibonacci(n):\n",
    "    if n<=1:\n",
    "        return n\n",
    "    else:\n",
    "        return(fibonacci(n-1)+fibonacci(n-2))\n",
    "number_of_terms=int(input(\"Enter the number of terms\"))\n",
    "if number_of_terms>0:\n",
    "    print(f\"Printing fibonacci series for {number_of_terms} terms....\")\n",
    "    for i in range(number_of_terms):\n",
    "        print(fibonacci(i))\n",
    "else:\n",
    "    print(\"Invalid input\")"
   ]
  },
  {
   "cell_type": "markdown",
   "id": "6fd5d6c8",
   "metadata": {},
   "source": [
    "### 2. Write a Python Program to Find Factorial of Number Using Recursion?"
   ]
  },
  {
   "cell_type": "code",
   "execution_count": 2,
   "id": "f6f85c15",
   "metadata": {},
   "outputs": [
    {
     "data": {
      "text/plain": [
       "120"
      ]
     },
     "execution_count": 2,
     "metadata": {},
     "output_type": "execute_result"
    }
   ],
   "source": [
    "def fact(n):\n",
    "    if n == 0:\n",
    "        return 1\n",
    "    else:\n",
    "        return n*fact(n-1)\n",
    "fact(5)"
   ]
  },
  {
   "cell_type": "markdown",
   "id": "c051c75b",
   "metadata": {},
   "source": [
    "### 3. Write a Python Program to calculate your Body Mass Index?"
   ]
  },
  {
   "cell_type": "code",
   "execution_count": 3,
   "id": "ac5be5d2",
   "metadata": {},
   "outputs": [
    {
     "name": "stdout",
     "output_type": "stream",
     "text": [
      "Enter weight in kilograms: 69\n",
      "Enter height in centimeters: 180\n"
     ]
    },
    {
     "data": {
      "text/plain": [
       "21"
      ]
     },
     "execution_count": 3,
     "metadata": {},
     "output_type": "execute_result"
    }
   ],
   "source": [
    "def bmi():\n",
    "    weight = int(input('Enter weight in kilograms: '))\n",
    "    height = int(input('Enter height in centimeters: '))\n",
    "    bmi = (weight/height**2)*10000\n",
    "    return round(bmi)\n",
    "bmi()"
   ]
  },
  {
   "cell_type": "code",
   "execution_count": 4,
   "id": "ded8b305",
   "metadata": {},
   "outputs": [
    {
     "name": "stdout",
     "output_type": "stream",
     "text": [
      "Enter a number:5\n",
      "Natural log of 5.0 is:1.6094379124341003\n"
     ]
    }
   ],
   "source": [
    "import math\n",
    "n=float(input(\"Enter a number:\"))\n",
    "print(f\"Natural log of {n} is:{math.log(n)}\")"
   ]
  },
  {
   "cell_type": "markdown",
   "id": "d42b955c",
   "metadata": {},
   "source": [
    "### 5. Write a Python Program for cube sum of first n natural numbers?"
   ]
  },
  {
   "cell_type": "code",
   "execution_count": 5,
   "id": "d8481cb2",
   "metadata": {},
   "outputs": [
    {
     "name": "stdout",
     "output_type": "stream",
     "text": [
      "Enter a number: 7\n"
     ]
    },
    {
     "data": {
      "text/plain": [
       "784"
      ]
     },
     "execution_count": 5,
     "metadata": {},
     "output_type": "execute_result"
    }
   ],
   "source": [
    "def cube_sum():\n",
    "    n = int(input('Enter a number: '))\n",
    "    cubesum = 0\n",
    "    for i in range(1,n+1):\n",
    "        cubesum+=i**3\n",
    "    return cubesum\n",
    "cube_sum()"
   ]
  }
 ],
 "metadata": {
  "kernelspec": {
   "display_name": "Python 3",
   "language": "python",
   "name": "python3"
  },
  "language_info": {
   "codemirror_mode": {
    "name": "ipython",
    "version": 3
   },
   "file_extension": ".py",
   "mimetype": "text/x-python",
   "name": "python",
   "nbconvert_exporter": "python",
   "pygments_lexer": "ipython3",
   "version": "3.8.8"
  }
 },
 "nbformat": 4,
 "nbformat_minor": 5
}
