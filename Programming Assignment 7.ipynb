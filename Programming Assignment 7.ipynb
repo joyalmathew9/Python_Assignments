{
 "cells": [
  {
   "cell_type": "code",
   "execution_count": 1,
   "id": "984e3d86",
   "metadata": {},
   "outputs": [],
   "source": [
    "import numpy as np"
   ]
  },
  {
   "cell_type": "markdown",
   "id": "125e6c89",
   "metadata": {},
   "source": [
    "1. Write a Python Program to find sum of array?"
   ]
  },
  {
   "cell_type": "code",
   "execution_count": 2,
   "id": "27f8897b",
   "metadata": {},
   "outputs": [
    {
     "name": "stdout",
     "output_type": "stream",
     "text": [
      "Enter array elements: 1,2,3,4\n"
     ]
    },
    {
     "data": {
      "text/plain": [
       "10"
      ]
     },
     "execution_count": 2,
     "metadata": {},
     "output_type": "execute_result"
    }
   ],
   "source": [
    "def arraysum():\n",
    "    arr = eval(input('Enter array elements: '))\n",
    "    arr = np.array(arr)\n",
    "    arr_sum = sum(arr)\n",
    "    return arr_sum\n",
    "arraysum()"
   ]
  },
  {
   "cell_type": "markdown",
   "id": "88f79139",
   "metadata": {},
   "source": [
    "2. Write a Python Program to find largest element in an array?"
   ]
  },
  {
   "cell_type": "code",
   "execution_count": 3,
   "id": "6655f7d2",
   "metadata": {},
   "outputs": [
    {
     "name": "stdout",
     "output_type": "stream",
     "text": [
      "Enter array elements: 2,3,4,56,3\n"
     ]
    },
    {
     "data": {
      "text/plain": [
       "56"
      ]
     },
     "execution_count": 3,
     "metadata": {},
     "output_type": "execute_result"
    }
   ],
   "source": [
    "def largest():\n",
    "    arr = eval(input('Enter array elements: '))\n",
    "    arr = np.array(arr)\n",
    "    arr_lar = sorted(arr,reverse=True)[0]\n",
    "    return arr_lar\n",
    "largest()"
   ]
  },
  {
   "cell_type": "markdown",
   "id": "99d3af29",
   "metadata": {},
   "source": [
    "3. Write a Python Program for array rotation?"
   ]
  },
  {
   "cell_type": "code",
   "execution_count": 4,
   "id": "64ae85a7",
   "metadata": {},
   "outputs": [
    {
     "name": "stdout",
     "output_type": "stream",
     "text": [
      "Enter array elements: 2,3,4,5,6\n"
     ]
    },
    {
     "data": {
      "text/plain": [
       "array([6, 5, 4, 3, 2])"
      ]
     },
     "execution_count": 4,
     "metadata": {},
     "output_type": "execute_result"
    }
   ],
   "source": [
    "def arrayrotation():\n",
    "    arr = eval(input('Enter array elements: '))\n",
    "    arr = np.array(arr)\n",
    "    reverse = arr[::-1]\n",
    "    return reverse\n",
    "arrayrotation()"
   ]
  },
  {
   "cell_type": "markdown",
   "id": "83ccdb00",
   "metadata": {},
   "source": [
    "4. Write a Python Program to Split the array and add the first part to the end?"
   ]
  },
  {
   "cell_type": "code",
   "execution_count": 5,
   "id": "f27a1fe6",
   "metadata": {},
   "outputs": [
    {
     "name": "stdout",
     "output_type": "stream",
     "text": [
      "Enter array: [1,2,3,4,5,6]\n",
      "Enter the index location to split: 3\n",
      "[4, 5, 6, 1, 2, 3]\n"
     ]
    }
   ],
   "source": [
    "def splitarr():\n",
    "    arr = eval(input('Enter array: '))\n",
    "    position = eval(input('Enter the index location to split: '))\n",
    "    new_arr = arr[position:]+arr[:position]\n",
    "    print(new_arr)\n",
    "splitarr()"
   ]
  },
  {
   "cell_type": "markdown",
   "id": "37968979",
   "metadata": {},
   "source": [
    "5. Write a Python Program to check if given array is Monotonic?"
   ]
  },
  {
   "cell_type": "code",
   "execution_count": null,
   "id": "e887f8f7",
   "metadata": {},
   "outputs": [],
   "source": [
    "def monotonic():\n",
    "    arr = eval(input('Enter array: '))\n",
    "    if(all(arr[i]<=arr[i+1] for i in range(len(arr)-1)) or all(arr[i]>=arr[i+1] for i in range(len(arr)-1))):   \n",
    "        print('Array is monotonic')\n",
    "    else:\n",
    "        print('Array is not monotonic')\n",
    "monotonic()"
   ]
  }
 ],
 "metadata": {
  "kernelspec": {
   "display_name": "Python 3",
   "language": "python",
   "name": "python3"
  },
  "language_info": {
   "codemirror_mode": {
    "name": "ipython",
    "version": 3
   },
   "file_extension": ".py",
   "mimetype": "text/x-python",
   "name": "python",
   "nbconvert_exporter": "python",
   "pygments_lexer": "ipython3",
   "version": "3.8.8"
  }
 },
 "nbformat": 4,
 "nbformat_minor": 5
}
