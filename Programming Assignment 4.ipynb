{
 "cells": [
  {
   "cell_type": "markdown",
   "id": "32d4fb71",
   "metadata": {},
   "source": [
    "### 1. Write a Python Program to Find the Factorial of a Number?"
   ]
  },
  {
   "cell_type": "code",
   "execution_count": 1,
   "id": "4539b245",
   "metadata": {},
   "outputs": [
    {
     "name": "stdout",
     "output_type": "stream",
     "text": [
      "Enter a number: 5\n"
     ]
    },
    {
     "data": {
      "text/plain": [
       "120"
      ]
     },
     "execution_count": 1,
     "metadata": {},
     "output_type": "execute_result"
    }
   ],
   "source": [
    "def factorial():    \n",
    "    n = int(input('Enter a number: '))\n",
    "    fact = 1\n",
    "    if n== 0:\n",
    "        return 0\n",
    "    else:\n",
    "        while n > 1:\n",
    "            fact = fact*n\n",
    "            n -= 1\n",
    "        return fact\n",
    "factorial()"
   ]
  },
  {
   "cell_type": "markdown",
   "id": "0a9d57e2",
   "metadata": {},
   "source": [
    "### 2. Write a Python Program to Display the multiplication Table?"
   ]
  },
  {
   "cell_type": "code",
   "execution_count": 2,
   "id": "6c435d47",
   "metadata": {},
   "outputs": [
    {
     "name": "stdout",
     "output_type": "stream",
     "text": [
      "Enter a number: 10\n",
      "10*1=10\n",
      "10*2=20\n",
      "10*3=30\n",
      "10*4=40\n",
      "10*5=50\n",
      "10*6=60\n",
      "10*7=70\n",
      "10*8=80\n",
      "10*9=90\n",
      "10*10=100\n"
     ]
    }
   ],
   "source": [
    "def multiplication():    \n",
    "    num = int(input('Enter a number: '))\n",
    "    for i in range(1,11):\n",
    "        m = num*i\n",
    "        print(f'{num}*{i}={m}')\n",
    "multiplication()"
   ]
  },
  {
   "cell_type": "markdown",
   "id": "ef9af89d",
   "metadata": {},
   "source": [
    "### 3. Write a Python Program to Print the Fibonacci sequence?"
   ]
  },
  {
   "cell_type": "code",
   "execution_count": 3,
   "id": "769d7ef4",
   "metadata": {},
   "outputs": [
    {
     "data": {
      "text/plain": [
       "[1, 1, 2, 3, 5, 8, 13, 21, 34, 55]"
      ]
     },
     "execution_count": 3,
     "metadata": {},
     "output_type": "execute_result"
    }
   ],
   "source": [
    "def fib(n):\n",
    "    a = 1\n",
    "    b = 1\n",
    "    output = list()\n",
    "    for i in range(n):\n",
    "        output.append(a)\n",
    "        a,b = b,a+b\n",
    "    return output\n",
    "fib(10)"
   ]
  },
  {
   "cell_type": "markdown",
   "id": "f7675d39",
   "metadata": {},
   "source": [
    "### 4. Write a Python Program to Check Armstrong Number?"
   ]
  },
  {
   "cell_type": "code",
   "execution_count": 4,
   "id": "0e16a3e2",
   "metadata": {},
   "outputs": [
    {
     "name": "stdout",
     "output_type": "stream",
     "text": [
      "Enter any number: 371\n",
      "371 is an Armstrong number\n"
     ]
    }
   ],
   "source": [
    "x = input('Enter any number: ')\n",
    "l = list()\n",
    "for i in x:\n",
    "     l.append(int(i)**3)\n",
    "tot = 0\n",
    "for j in l:\n",
    "    tot+=j\n",
    "if tot == int(x):\n",
    "    print(f'{x} is an Armstrong number')\n",
    "else:\n",
    "    print(f'{x} is not an Armstrong number')"
   ]
  },
  {
   "cell_type": "markdown",
   "id": "13eff76a",
   "metadata": {},
   "source": [
    "### 5. Write a Python Program to Find Armstrong Number in an Interval?"
   ]
  },
  {
   "cell_type": "code",
   "execution_count": 5,
   "id": "b584a0e6",
   "metadata": {},
   "outputs": [
    {
     "name": "stdout",
     "output_type": "stream",
     "text": [
      "Enter lower limit of interval:100\n",
      "Enter upper limit of interval:500\n",
      "Printing list of Armstrong numbers in the interval (100-500) ......\n",
      "153 370 371 407\n"
     ]
    }
   ],
   "source": [
    "def isArmstrong(n):\n",
    "    n1=n\n",
    "    count=0\n",
    "    sum1=0\n",
    "    number_of_digits=len(str(n))\n",
    "\n",
    "    while n1>0:\n",
    "        c=n1%10\n",
    "        sum1+=c**number_of_digits\n",
    "        n1=n1//10\n",
    "    if n==sum1:\n",
    "        return True\n",
    "    else:\n",
    "        return False\n",
    "n1=int(input(\"Enter lower limit of interval:\"))\n",
    "n2=int(input(\"Enter upper limit of interval:\"))\n",
    "l=[]\n",
    "if n1>n2:\n",
    "    print(\"Invalid interval\")\n",
    "else:\n",
    "    for i in range(n1,n2+1):\n",
    "        if(isArmstrong(i)):\n",
    "            l.append(i)\n",
    "    print(f\"Printing list of Armstrong numbers in the interval ({n1}-{n2}) ......\") \n",
    "    print(*l)\n",
    "    "
   ]
  },
  {
   "cell_type": "markdown",
   "id": "eb64cff5",
   "metadata": {},
   "source": [
    "### 6. Write a Python Program to Find the Sum of Natural Numbers?"
   ]
  },
  {
   "cell_type": "code",
   "execution_count": 6,
   "id": "2f2b81a4",
   "metadata": {},
   "outputs": [
    {
     "name": "stdout",
     "output_type": "stream",
     "text": [
      "Enter a number: 99\n"
     ]
    },
    {
     "data": {
      "text/plain": [
       "4950"
      ]
     },
     "execution_count": 6,
     "metadata": {},
     "output_type": "execute_result"
    }
   ],
   "source": [
    "def tot():\n",
    "    num = int(input('Enter a number: '))\n",
    "    total = 0\n",
    "    for i in range(num+1):\n",
    "        total+=i\n",
    "    return total\n",
    "tot()"
   ]
  }
 ],
 "metadata": {
  "kernelspec": {
   "display_name": "Python 3",
   "language": "python",
   "name": "python3"
  },
  "language_info": {
   "codemirror_mode": {
    "name": "ipython",
    "version": 3
   },
   "file_extension": ".py",
   "mimetype": "text/x-python",
   "name": "python",
   "nbconvert_exporter": "python",
   "pygments_lexer": "ipython3",
   "version": "3.8.8"
  }
 },
 "nbformat": 4,
 "nbformat_minor": 5
}
