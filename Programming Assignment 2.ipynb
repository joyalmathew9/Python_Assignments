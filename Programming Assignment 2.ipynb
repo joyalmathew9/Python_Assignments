{
 "cells": [
  {
   "cell_type": "markdown",
   "id": "dcbcd344",
   "metadata": {},
   "source": [
    "### 1. Write a Python program to convert kilometers to miles?\n"
   ]
  },
  {
   "cell_type": "code",
   "execution_count": 3,
   "id": "8e9f2c26",
   "metadata": {},
   "outputs": [
    {
     "name": "stdout",
     "output_type": "stream",
     "text": [
      "Enter the distance in km: 25\n",
      "25.0 kilometre is 15.525 miles\n"
     ]
    }
   ],
   "source": [
    "def miles():\n",
    "    '''Converts kilometre to miles'''\n",
    "    km = float(input('Enter the distance in km: '))\n",
    "    miles = 0.621*km\n",
    "    print(f'{km} kilometre is {miles} miles')\n",
    "miles()"
   ]
  },
  {
   "cell_type": "markdown",
   "id": "8eaf07b5",
   "metadata": {},
   "source": [
    "### 2. Write a Python program to convert Celsius to Fahrenheit?\n"
   ]
  },
  {
   "cell_type": "code",
   "execution_count": 5,
   "id": "5a2453b5",
   "metadata": {},
   "outputs": [
    {
     "name": "stdout",
     "output_type": "stream",
     "text": [
      "Enter the value in celsius:2\n",
      "The value in Fahrenheit is 35.6\n"
     ]
    }
   ],
   "source": [
    "def Fahrenheit():\n",
    "    '''Converts celcius to fahrenheit'''\n",
    "    Celcius = float(input(\"Enter the value in celsius:\"))\n",
    "    Fahrenheit = Celcius*1.8+32\n",
    "    print(f\"The value in Fahrenheit is {Fahrenheit}\")\n",
    "Fahrenheit()"
   ]
  },
  {
   "cell_type": "markdown",
   "id": "65163fb7",
   "metadata": {},
   "source": [
    "### 3. Write a Python program to display calendar?"
   ]
  },
  {
   "cell_type": "code",
   "execution_count": 8,
   "id": "ddee9c9c",
   "metadata": {},
   "outputs": [
    {
     "name": "stdout",
     "output_type": "stream",
     "text": [
      "Enter year: 2005\n",
      "Enter month: 12\n",
      "   December 2005\n",
      "Mo Tu We Th Fr Sa Su\n",
      "          1  2  3  4\n",
      " 5  6  7  8  9 10 11\n",
      "12 13 14 15 16 17 18\n",
      "19 20 21 22 23 24 25\n",
      "26 27 28 29 30 31\n",
      "\n"
     ]
    }
   ],
   "source": [
    "import calendar\n",
    "yyyy = int(input('Enter year: '))\n",
    "mm = int(input('Enter month: '))\n",
    "print(calendar.month(yyyy,mm))"
   ]
  },
  {
   "cell_type": "markdown",
   "id": "bfa26366",
   "metadata": {},
   "source": [
    "### 4. Write a Python program to solve quadratic equation?"
   ]
  },
  {
   "cell_type": "code",
   "execution_count": 10,
   "id": "f506bd45",
   "metadata": {},
   "outputs": [
    {
     "name": "stdout",
     "output_type": "stream",
     "text": [
      "a=2\n",
      "b=1\n",
      "c=3\n",
      "The roots of the given quadratic equation are (-0.24999999999999992+1.1989578808281798j) and (-0.25000000000000006-1.1989578808281798j)\n"
     ]
    }
   ],
   "source": [
    "a=int(input(\"a=\"))\n",
    "b=int(input(\"b=\"))\n",
    "c=int(input(\"c=\"))\n",
    "r1=(-b+(b**2-4*a*c)**0.5)/(2*a)\n",
    "r2=(-b-(b**2-4*a*c)**0.5)/(2*a)\n",
    "print(f\"The roots of the given quadratic equation are {r1} and {r2}\")"
   ]
  },
  {
   "cell_type": "markdown",
   "id": "ebbe9cba",
   "metadata": {},
   "source": [
    "### 5. Write a Python program to swap two variables without temp variable?\n"
   ]
  },
  {
   "cell_type": "code",
   "execution_count": 11,
   "id": "e7ef1648",
   "metadata": {},
   "outputs": [
    {
     "name": "stdout",
     "output_type": "stream",
     "text": [
      "Enter the value of a=2\n",
      "Enter the value of b=3\n",
      "After swapping,the value of a= 3\n",
      "After swapping,the value of b= 2\n"
     ]
    }
   ],
   "source": [
    "a=int(input(\"Enter the value of a=\"))\n",
    "b=int(input(\"Enter the value of b=\"))\n",
    "a=a+b\n",
    "b=a-b\n",
    "a=a-b\n",
    "print(f\"After swapping,the value of a= {a}\")\n",
    "print(f\"After swapping,the value of b= {b}\")"
   ]
  }
 ],
 "metadata": {
  "kernelspec": {
   "display_name": "Python 3",
   "language": "python",
   "name": "python3"
  },
  "language_info": {
   "codemirror_mode": {
    "name": "ipython",
    "version": 3
   },
   "file_extension": ".py",
   "mimetype": "text/x-python",
   "name": "python",
   "nbconvert_exporter": "python",
   "pygments_lexer": "ipython3",
   "version": "3.8.8"
  }
 },
 "nbformat": 4,
 "nbformat_minor": 5
}
