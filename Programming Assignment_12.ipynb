{
 "cells": [
  {
   "cell_type": "markdown",
   "id": "514e4a21",
   "metadata": {},
   "source": [
    "1.Write a Python program to Extract Unique values dictionary values?"
   ]
  },
  {
   "cell_type": "code",
   "execution_count": 19,
   "id": "3d0a5ae3",
   "metadata": {},
   "outputs": [
    {
     "data": {
      "text/plain": [
       "[1, 'rr']"
      ]
     },
     "execution_count": 19,
     "metadata": {},
     "output_type": "execute_result"
    }
   ],
   "source": [
    "def uniqueval():\n",
    "    dic = {'a':1,'b':1,'c':'rr'}\n",
    "    values = []\n",
    "    for i in dic.values():\n",
    "        if i not in values:\n",
    "            values.append(i)\n",
    "    return values\n",
    "uniqueval()"
   ]
  },
  {
   "cell_type": "markdown",
   "id": "586e6cfd",
   "metadata": {},
   "source": [
    "2.Write a Python program to find the sum of all items in a dictionary?"
   ]
  },
  {
   "cell_type": "code",
   "execution_count": 20,
   "id": "45d1f827",
   "metadata": {},
   "outputs": [
    {
     "data": {
      "text/plain": [
       "4"
      ]
     },
     "execution_count": 20,
     "metadata": {},
     "output_type": "execute_result"
    }
   ],
   "source": [
    "def dictsum():\n",
    "    dic = {'a':1,'b':1,'c':2}\n",
    "    tot = 0\n",
    "    for i in dic.values():\n",
    "        tot+=i\n",
    "    return tot\n",
    "dictsum()"
   ]
  },
  {
   "cell_type": "markdown",
   "id": "22c17e98",
   "metadata": {},
   "source": [
    "3.Write a Python program to Merging two Dictionaries?"
   ]
  },
  {
   "cell_type": "code",
   "execution_count": 22,
   "id": "f375f1fb",
   "metadata": {},
   "outputs": [
    {
     "name": "stdout",
     "output_type": "stream",
     "text": [
      "{'porsche': 'panamera', 'ducati': ['panigale', 'scrambler']}\n"
     ]
    }
   ],
   "source": [
    "cars = {\n",
    "    'porsche':'panamera'\n",
    "}\n",
    "bikes = {\n",
    "    'ducati':['panigale','scrambler']\n",
    "}\n",
    "cars.update(bikes)\n",
    "print(cars)"
   ]
  },
  {
   "cell_type": "markdown",
   "id": "17acacc9",
   "metadata": {},
   "source": [
    "4.Write a Python program to convert key-values list to flat dictionary?"
   ]
  },
  {
   "cell_type": "code",
   "execution_count": 30,
   "id": "fbef6ca0",
   "metadata": {},
   "outputs": [
    {
     "data": {
      "text/plain": [
       "{'A': 'aka',\n",
       " 'B': 20,\n",
       " 'C': 30,\n",
       " 'D': 40,\n",
       " 'E': 50,\n",
       " 'F': 60,\n",
       " 'G': 70,\n",
       " 'H': 80,\n",
       " 'I': 90,\n",
       " 'J': 100}"
      ]
     },
     "execution_count": 30,
     "metadata": {},
     "output_type": "execute_result"
    }
   ],
   "source": [
    "in_list = [('A','aka'),('B',20),('C',30),('D',40),('E',50),('F',60),('G',70),('H',80),('I',90),('J',100)]\n",
    "def listtodic():\n",
    "    dic = {}\n",
    "    for i in in_list:\n",
    "        dic[i[0]]=i[1]\n",
    "    return dic\n",
    "listtodic()"
   ]
  },
  {
   "cell_type": "markdown",
   "id": "a005cc45",
   "metadata": {},
   "source": [
    "5.Write a Python program to insertion at the beginning in OrderedDict?"
   ]
  },
  {
   "cell_type": "code",
   "execution_count": 31,
   "id": "5781d3c1",
   "metadata": {},
   "outputs": [
    {
     "name": "stdout",
     "output_type": "stream",
     "text": [
      "dict_one OrderedDict([('Apple', 'Iphone'), ('Microsoft', 'Windows'), ('Google', 'chrome')])\n",
      "dict_one OrderedDict([('Apple', 'Iphone'), ('Microsoft', 'Windows'), ('Google', 'chrome'), ('Tesla', 'SpaceX')])\n",
      "dict_one OrderedDict([('Tesla', 'SpaceX'), ('Apple', 'Iphone'), ('Microsoft', 'Windows'), ('Google', 'chrome')])\n"
     ]
    }
   ],
   "source": [
    "from collections import OrderedDict\n",
    "dict_one = OrderedDict({'Apple':'Iphone','Microsoft':'Windows','Google':'chrome'})\n",
    "print('dict_one',dict_one)\n",
    "dict_two = {'Tesla':'SpaceX'}\n",
    "dict_one.update(dict_two)\n",
    "print('dict_one',dict_one)\n",
    "dict_one.move_to_end('Tesla',last=False)\n",
    "print('dict_one',dict_one)"
   ]
  },
  {
   "cell_type": "markdown",
   "id": "df854d8c",
   "metadata": {},
   "source": [
    "6.Write a Python program to check order of character in string using OrderedDict()?"
   ]
  },
  {
   "cell_type": "code",
   "execution_count": 39,
   "id": "80bcab76",
   "metadata": {},
   "outputs": [
    {
     "data": {
      "text/plain": [
       "'The order of pattern is correct'"
      ]
     },
     "execution_count": 39,
     "metadata": {},
     "output_type": "execute_result"
    }
   ],
   "source": [
    "def check_order(my_input, my_pattern):\n",
    "    my_dict = OrderedDict.fromkeys(my_input)\n",
    "    pattern_length = 0\n",
    "    for key,value in my_dict.items():\n",
    "        if (key == my_pattern[pattern_length]):\n",
    "            pattern_length = pattern_length + 1\n",
    "\n",
    "        if (pattern_length == (len(my_pattern))):\n",
    "            return 'The order of pattern is correct'\n",
    "\n",
    "            return 'The order of pattern is incorrect'\n",
    "my_input = 'data science'\n",
    "input_pattern = 'da'\n",
    "check_order(my_input,input_pattern)"
   ]
  },
  {
   "cell_type": "markdown",
   "id": "231a2d28",
   "metadata": {},
   "source": [
    "7.Write a Python program to sort Python Dictionaries by Key or Value?"
   ]
  },
  {
   "cell_type": "code",
   "execution_count": 40,
   "id": "45195cf0",
   "metadata": {},
   "outputs": [
    {
     "name": "stdout",
     "output_type": "stream",
     "text": [
      "{'Chemistry': 80, 'Computer': 100, 'Mathematics': 85, 'Physics': 75}\n",
      "{'Physics': 75, 'Chemistry': 80, 'Mathematics': 85, 'Computer': 100}\n"
     ]
    }
   ],
   "source": [
    "dic = {'Computer':100,'Physics':75,'Chemistry':80,'Mathematics':85}\n",
    "def sortdict(inp_dict,sort_type):\n",
    "    if sort_type == 'key':\n",
    "        print(dict(sorted(inp_dict.items(), key = lambda x:x[0], reverse=False)))\n",
    "    else:\n",
    "        print(dict(sorted(inp_dict.items(), key = lambda x:x[1], reverse=False)))\n",
    "        \n",
    "sortdict(dic,'key')\n",
    "sortdict(dic,'value')"
   ]
  }
 ],
 "metadata": {
  "kernelspec": {
   "display_name": "Python 3",
   "language": "python",
   "name": "python3"
  },
  "language_info": {
   "codemirror_mode": {
    "name": "ipython",
    "version": 3
   },
   "file_extension": ".py",
   "mimetype": "text/x-python",
   "name": "python",
   "nbconvert_exporter": "python",
   "pygments_lexer": "ipython3",
   "version": "3.8.8"
  }
 },
 "nbformat": 4,
 "nbformat_minor": 5
}
