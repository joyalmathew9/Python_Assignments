{
 "cells": [
  {
   "cell_type": "markdown",
   "id": "2b62e9ea",
   "metadata": {},
   "source": [
    "1. Write a Python program to find sum of elements in list?"
   ]
  },
  {
   "cell_type": "code",
   "execution_count": 1,
   "id": "a7a9754d",
   "metadata": {},
   "outputs": [
    {
     "name": "stdout",
     "output_type": "stream",
     "text": [
      "Enter the number of elements in the list: 5\n",
      "Enter an element: 2\n",
      "Enter an element: 3\n",
      "Enter an element: 4\n",
      "Enter an element: 5\n",
      "Enter an element: 6\n"
     ]
    },
    {
     "data": {
      "text/plain": [
       "20"
      ]
     },
     "execution_count": 1,
     "metadata": {},
     "output_type": "execute_result"
    }
   ],
   "source": [
    "def listsum():\n",
    "    ele = int(input('Enter the number of elements in the list: '))\n",
    "    list_ = []\n",
    "    tot = 0\n",
    "    for i in range(ele):\n",
    "        l = int(input('Enter an element: '))\n",
    "        list_.append(l)\n",
    "    for j in list_:\n",
    "        tot = tot + j\n",
    "    return tot\n",
    "listsum()"
   ]
  },
  {
   "cell_type": "markdown",
   "id": "cab82eb9",
   "metadata": {},
   "source": [
    "2. Write a Python program to Multiply all numbers in the list?"
   ]
  },
  {
   "cell_type": "code",
   "execution_count": 2,
   "id": "a8529127",
   "metadata": {},
   "outputs": [
    {
     "name": "stdout",
     "output_type": "stream",
     "text": [
      "Enter the number of elements in the list: 5\n",
      "Enter a number: 1\n",
      "Enter a number: 2\n",
      "Enter a number: 3\n",
      "Enter a number: 4\n",
      "Enter a number: 5\n"
     ]
    },
    {
     "data": {
      "text/plain": [
       "120"
      ]
     },
     "execution_count": 2,
     "metadata": {},
     "output_type": "execute_result"
    }
   ],
   "source": [
    "def listprod():\n",
    "    ele = int(input('Enter the number of elements in the list: '))\n",
    "    list_ = []\n",
    "    product = 1\n",
    "    for i in range(ele):\n",
    "        l = int(input('Enter a number: '))\n",
    "        list_.append(l)\n",
    "    for j in list_:\n",
    "        product = product*j\n",
    "    return product\n",
    "listprod()"
   ]
  },
  {
   "cell_type": "markdown",
   "id": "9c3e26fd",
   "metadata": {},
   "source": [
    "3. Write a Python program to find smallest number in a list?"
   ]
  },
  {
   "cell_type": "code",
   "execution_count": 3,
   "id": "d011a82e",
   "metadata": {},
   "outputs": [
    {
     "name": "stdout",
     "output_type": "stream",
     "text": [
      "Enter the number of elements in the list: 5\n",
      "Enter a number: 22\n",
      "Enter a number: 43\n",
      "Enter a number: 5\n",
      "Enter a number: 6\n",
      "Enter a number: 9\n"
     ]
    },
    {
     "data": {
      "text/plain": [
       "5"
      ]
     },
     "execution_count": 3,
     "metadata": {},
     "output_type": "execute_result"
    }
   ],
   "source": [
    "def smallest():\n",
    "    ele = int(input('Enter the number of elements in the list: '))\n",
    "    list_ = [] \n",
    "    for i in range(ele):\n",
    "        l = int(input('Enter a number: '))\n",
    "        list_.append(l)\n",
    "    small = list_[0]\n",
    "    for j in range(len(list_)):\n",
    "        if list_[j]<small:\n",
    "            small = list_[j]\n",
    "    return small\n",
    "smallest()"
   ]
  },
  {
   "cell_type": "markdown",
   "id": "597cd9b8",
   "metadata": {},
   "source": [
    "4. Write a Python program to find largest number in a list?"
   ]
  },
  {
   "cell_type": "code",
   "execution_count": 4,
   "id": "aaa712c7",
   "metadata": {},
   "outputs": [
    {
     "name": "stdout",
     "output_type": "stream",
     "text": [
      "Enter the number of elements in the list: 5\n",
      "Enter a number: 33\n",
      "Enter a number: 42\n",
      "Enter a number: 54\n",
      "Enter a number: 60\n",
      "Enter a number: 1\n"
     ]
    },
    {
     "data": {
      "text/plain": [
       "60"
      ]
     },
     "execution_count": 4,
     "metadata": {},
     "output_type": "execute_result"
    }
   ],
   "source": [
    "def largest():\n",
    "    ele = int(input('Enter the number of elements in the list: '))\n",
    "    list_ = []\n",
    "    for i in range(ele):\n",
    "        l = int(input('Enter a number: '))\n",
    "        list_.append(l)\n",
    "    large = list_[0]\n",
    "    for j in range(len(list_)):\n",
    "        if list_[j]>large:\n",
    "            large = list_[j]\n",
    "    return large\n",
    "largest()"
   ]
  },
  {
   "cell_type": "markdown",
   "id": "6fe8d0c1",
   "metadata": {},
   "source": [
    "5. Write a Python program to find second largest number in a list?"
   ]
  },
  {
   "cell_type": "code",
   "execution_count": 5,
   "id": "28b2ca53",
   "metadata": {},
   "outputs": [
    {
     "name": "stdout",
     "output_type": "stream",
     "text": [
      "Enter the number of elements in a list: 5\n",
      "Enter a Element: 2\n",
      "Enter a Element: 34\n",
      "Enter a Element: 5\n",
      "Enter a Element: 55\n",
      "Enter a Element: 33\n"
     ]
    },
    {
     "data": {
      "text/plain": [
       "34"
      ]
     },
     "execution_count": 5,
     "metadata": {},
     "output_type": "execute_result"
    }
   ],
   "source": [
    "def secondLargest():\n",
    "    ele = int(input('Enter the number of elements in a list: '))\n",
    "    list_ = []\n",
    "    for i in range(ele):\n",
    "        l = (int(input('Enter a Element: ')))\n",
    "        list_.append(l)\n",
    "    sec_lar = sorted(list_,reverse=True)[1]\n",
    "    return sec_lar\n",
    "secondLargest()"
   ]
  },
  {
   "cell_type": "markdown",
   "id": "3a89dad8",
   "metadata": {},
   "source": [
    "6. Write a Python program to find N largest elements from a list?"
   ]
  },
  {
   "cell_type": "code",
   "execution_count": 6,
   "id": "eb2d6e8b",
   "metadata": {},
   "outputs": [
    {
     "name": "stdout",
     "output_type": "stream",
     "text": [
      "Enter the number of elements in a list 5\n",
      "Enter a number: 34\n",
      "Enter a number: 23\n",
      "Enter a number: 54\n",
      "Enter a number: 56\n",
      "Enter a number: 2\n"
     ]
    },
    {
     "data": {
      "text/plain": [
       "[56, 54]"
      ]
     },
     "execution_count": 6,
     "metadata": {},
     "output_type": "execute_result"
    }
   ],
   "source": [
    "def Nlargest(n):\n",
    "    ele = int(input('Enter the number of elements in a list '))\n",
    "    list_ = []\n",
    "    for i in range(ele):\n",
    "        l = int(input('Enter a number: '))\n",
    "        list_.append(l)\n",
    "    Nlar =sorted(list_,reverse=True)[0:n]\n",
    "    return Nlar\n",
    "Nlargest(2)"
   ]
  },
  {
   "cell_type": "markdown",
   "id": "ded5f8ae",
   "metadata": {},
   "source": [
    "7. Write a Python program to print even numbers in a list?"
   ]
  },
  {
   "cell_type": "code",
   "execution_count": 7,
   "id": "fde84265",
   "metadata": {},
   "outputs": [
    {
     "name": "stdout",
     "output_type": "stream",
     "text": [
      "Enter the number of elements in a list5\n",
      "Enter a number: 2\n",
      "Enter a number: 3\n",
      "Enter a number: 4\n",
      "Enter a number: 5\n",
      "Enter a number: 6\n"
     ]
    },
    {
     "data": {
      "text/plain": [
       "[2, 4, 6]"
      ]
     },
     "execution_count": 7,
     "metadata": {},
     "output_type": "execute_result"
    }
   ],
   "source": [
    "def even():\n",
    "    ele = int(input('Enter the number of elements in a list'))\n",
    "    list_ = []\n",
    "    even_list = []\n",
    "    for i in range(ele):\n",
    "        l = int(input('Enter a number: '))\n",
    "        list_.append(l)\n",
    "    for j in list_:\n",
    "        if j%2==0:\n",
    "            even_list.append(j)\n",
    "    return even_list\n",
    "even()"
   ]
  },
  {
   "cell_type": "markdown",
   "id": "72b2e598",
   "metadata": {},
   "source": [
    "8. Write a Python program to print odd numbers in a List?"
   ]
  },
  {
   "cell_type": "code",
   "execution_count": 8,
   "id": "3eb2525f",
   "metadata": {},
   "outputs": [
    {
     "name": "stdout",
     "output_type": "stream",
     "text": [
      "Enter the number of elements in a list5\n",
      "Enter a number: 5\n",
      "Enter a number: 6\n",
      "Enter a number: 7\n",
      "Enter a number: 8\n",
      "Enter a number: 9\n"
     ]
    },
    {
     "data": {
      "text/plain": [
       "[5, 7, 9]"
      ]
     },
     "execution_count": 8,
     "metadata": {},
     "output_type": "execute_result"
    }
   ],
   "source": [
    "def odd():\n",
    "    ele = int(input('Enter the number of elements in a list'))\n",
    "    list_ = []\n",
    "    odd_list = []\n",
    "    for i in range(ele):\n",
    "        l = int(input('Enter a number: '))\n",
    "        list_.append(l)\n",
    "    for j in list_:\n",
    "        if j%2!=0:\n",
    "            odd_list.append(j)\n",
    "    return odd_list\n",
    "odd()"
   ]
  },
  {
   "cell_type": "markdown",
   "id": "0db753e4",
   "metadata": {},
   "source": [
    "9. Write a Python program to Remove empty List from List?"
   ]
  },
  {
   "cell_type": "code",
   "execution_count": 9,
   "id": "63ea7172",
   "metadata": {},
   "outputs": [
    {
     "name": "stdout",
     "output_type": "stream",
     "text": [
      "Enter all elements of the list: [1,2,3,[],3]\n",
      "There is an Empty list in [1, 2, 3, [], 3] at Position 3\n",
      "The List after removing [] is [1, 2, 3, 3]\n"
     ]
    }
   ],
   "source": [
    "def EmptyList():\n",
    "    in_list = eval(input('Enter all elements of the list: '))\n",
    "    if [] in in_list:\n",
    "        print(f'There is an Empty list in {in_list} at Position {in_list.index([])}')\n",
    "        in_list.remove([])\n",
    "        print(f'The List after removing [] is {in_list}')\n",
    "    else:\n",
    "        print(f'There is no [] List in the list {in_list}')\n",
    "        \n",
    "EmptyList()       "
   ]
  },
  {
   "cell_type": "markdown",
   "id": "1319b831",
   "metadata": {},
   "source": [
    "10. Write a Python program to Cloning or Copying a list?"
   ]
  },
  {
   "cell_type": "code",
   "execution_count": 10,
   "id": "ce5beab6",
   "metadata": {},
   "outputs": [
    {
     "name": "stdout",
     "output_type": "stream",
     "text": [
      "Enter a list [2,3,4,5]\n",
      "[2, 3, 4, 5] 2246710818816\n",
      "[2, 3, 4, 5] 2246710676928\n"
     ]
    }
   ],
   "source": [
    "import copy\n",
    "\n",
    "def cloneList():\n",
    "    in_list = eval(input('Enter a list '))\n",
    "    print(in_list, id(in_list))\n",
    "    cloned_list = in_list.copy()\n",
    "    print(cloned_list, id(cloned_list))\n",
    "\n",
    "cloneList()"
   ]
  },
  {
   "cell_type": "markdown",
   "id": "9ca72a49",
   "metadata": {},
   "source": [
    "11. Write a Python program to Count occurrences of an element in a list?"
   ]
  },
  {
   "cell_type": "code",
   "execution_count": 11,
   "id": "6755e2cd",
   "metadata": {},
   "outputs": [
    {
     "name": "stdout",
     "output_type": "stream",
     "text": [
      "Enter a list: [1,2,33,33,4,5,6]\n",
      "Enter the element to find: 33\n",
      "Number of occurences of 33 is 2\n"
     ]
    }
   ],
   "source": [
    "def occurence():\n",
    "    list_ = eval(input('Enter a list: '))\n",
    "    num = eval(input('Enter the element to find: '))\n",
    "    count = 0\n",
    "    for i in range(len(list_)):\n",
    "        if list_[i] == num:\n",
    "            count = count+1\n",
    "    print(f'Number of occurences of {num} is {count}')\n",
    "occurence()"
   ]
  }
 ],
 "metadata": {
  "kernelspec": {
   "display_name": "Python 3",
   "language": "python",
   "name": "python3"
  },
  "language_info": {
   "codemirror_mode": {
    "name": "ipython",
    "version": 3
   },
   "file_extension": ".py",
   "mimetype": "text/x-python",
   "name": "python",
   "nbconvert_exporter": "python",
   "pygments_lexer": "ipython3",
   "version": "3.8.8"
  }
 },
 "nbformat": 4,
 "nbformat_minor": 5
}
