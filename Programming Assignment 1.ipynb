{
 "cells": [
  {
   "cell_type": "markdown",
   "id": "bf3567d7",
   "metadata": {},
   "source": [
    "### 1. Write a Python program to print \"Hello Python\""
   ]
  },
  {
   "cell_type": "code",
   "execution_count": 1,
   "id": "10280e7a",
   "metadata": {},
   "outputs": [
    {
     "name": "stdout",
     "output_type": "stream",
     "text": [
      "Hello Python\n"
     ]
    }
   ],
   "source": [
    "print('Hello Python')"
   ]
  },
  {
   "cell_type": "markdown",
   "id": "abd8d436",
   "metadata": {},
   "source": [
    "### 2. Write a Python program to do arithmetical operations addition and division.?"
   ]
  },
  {
   "cell_type": "code",
   "execution_count": 2,
   "id": "da1e38ba",
   "metadata": {},
   "outputs": [
    {
     "data": {
      "text/plain": [
       "7"
      ]
     },
     "execution_count": 2,
     "metadata": {},
     "output_type": "execute_result"
    }
   ],
   "source": [
    "def add(a,b):\n",
    "    '''Returns the sum of two different numbers'''\n",
    "    tot = a+b\n",
    "    return tot\n",
    "add(2,5)"
   ]
  },
  {
   "cell_type": "code",
   "execution_count": 3,
   "id": "63cfcde9",
   "metadata": {},
   "outputs": [
    {
     "data": {
      "text/plain": [
       "5.0"
      ]
     },
     "execution_count": 3,
     "metadata": {},
     "output_type": "execute_result"
    }
   ],
   "source": [
    "def div(a,b):\n",
    "    '''Returns the division of two different numbers'''\n",
    "    divi = a/b\n",
    "    return divi\n",
    "div(10,2)"
   ]
  },
  {
   "cell_type": "markdown",
   "id": "67a97ae2",
   "metadata": {},
   "source": [
    "### 3. Write a Python program to find the area of a triangle?"
   ]
  },
  {
   "cell_type": "code",
   "execution_count": 4,
   "id": "f0e51748",
   "metadata": {},
   "outputs": [
    {
     "name": "stdout",
     "output_type": "stream",
     "text": [
      "Enter the length of base: 24\n",
      "Enter the height of the triangle: 25\n",
      "Area of the triangle is: 300.0\n"
     ]
    }
   ],
   "source": [
    "base = float(input('Enter the length of base: '))\n",
    "height = float(input('Enter the height of the triangle: '))\n",
    "area = 0.5*base*height\n",
    "print(f'Area of the triangle is: {area}')"
   ]
  },
  {
   "cell_type": "markdown",
   "id": "a242f399",
   "metadata": {},
   "source": [
    "### 4. Write a Python program to swap two variables?"
   ]
  },
  {
   "cell_type": "code",
   "execution_count": 6,
   "id": "2c45b4bf",
   "metadata": {},
   "outputs": [
    {
     "name": "stdout",
     "output_type": "stream",
     "text": [
      "value of a before swapping is 1\n",
      "value of b before swapping is 2\n",
      "value of a after swapping is 2\n",
      "value of b before swapping is 1\n"
     ]
    }
   ],
   "source": [
    "a = 1\n",
    "b = 2\n",
    "print(f'value of a before swapping is {a}')\n",
    "print(f'value of b before swapping is {b}')\n",
    "c = a\n",
    "a = b\n",
    "b = c\n",
    "print(f'value of a after swapping is {a}')\n",
    "print(f'value of b before swapping is {b}')"
   ]
  },
  {
   "cell_type": "markdown",
   "id": "1668ea73",
   "metadata": {},
   "source": [
    "### 5. Write a Python program to generate a random number?"
   ]
  },
  {
   "cell_type": "code",
   "execution_count": 7,
   "id": "e618e106",
   "metadata": {},
   "outputs": [
    {
     "name": "stdout",
     "output_type": "stream",
     "text": [
      "56\n"
     ]
    }
   ],
   "source": [
    "import random\n",
    "print(random.randint(1,100))"
   ]
  }
 ],
 "metadata": {
  "kernelspec": {
   "display_name": "Python 3",
   "language": "python",
   "name": "python3"
  },
  "language_info": {
   "codemirror_mode": {
    "name": "ipython",
    "version": 3
   },
   "file_extension": ".py",
   "mimetype": "text/x-python",
   "name": "python",
   "nbconvert_exporter": "python",
   "pygments_lexer": "ipython3",
   "version": "3.8.8"
  }
 },
 "nbformat": 4,
 "nbformat_minor": 5
}
