{
 "cells": [
  {
   "cell_type": "markdown",
   "id": "8a6539a6",
   "metadata": {},
   "source": [
    "1. Write a Python program to find words which are greater than given length k ?"
   ]
  },
  {
   "cell_type": "code",
   "execution_count": 1,
   "id": "41c3157b",
   "metadata": {},
   "outputs": [
    {
     "name": "stdout",
     "output_type": "stream",
     "text": [
      "Enter a string: INeuron Full Stack Data Science Course \n",
      "Enter length: 4\n"
     ]
    },
    {
     "data": {
      "text/plain": [
       "['INeuron', 'Stack', 'Science', 'Course']"
      ]
     },
     "execution_count": 1,
     "metadata": {},
     "output_type": "execute_result"
    }
   ],
   "source": [
    "def strlen():\n",
    "    string = input('Enter a string: ')\n",
    "    length = int(input('Enter length: '))\n",
    "    out_str = []\n",
    "    split_string = string.split(\" \")\n",
    "    for i in split_string:\n",
    "        if len(i) > length:\n",
    "            out_str.append(i)\n",
    "    return out_str\n",
    "strlen()"
   ]
  },
  {
   "cell_type": "markdown",
   "id": "02f95592",
   "metadata": {},
   "source": [
    "2. Write a Python program for removing i-th character from a string ?"
   ]
  },
  {
   "cell_type": "code",
   "execution_count": 2,
   "id": "21a09ed9",
   "metadata": {},
   "outputs": [
    {
     "name": "stdout",
     "output_type": "stream",
     "text": [
      "Enter a string: Science\n",
      "Enter ith char to be removed: 2\n"
     ]
    },
    {
     "data": {
      "text/plain": [
       "'Scence'"
      ]
     },
     "execution_count": 2,
     "metadata": {},
     "output_type": "execute_result"
    }
   ],
   "source": [
    "def removechar():\n",
    "    string = input('Enter a string: ')\n",
    "    i_char = int(input('Enter ith char to be removed: '))\n",
    "    out_str = ''\n",
    "    for i in range(len(string)):\n",
    "        if i!=i_char:\n",
    "            out_str = out_str + string[i] \n",
    "    return out_str\n",
    "removechar()"
   ]
  },
  {
   "cell_type": "markdown",
   "id": "918a3aae",
   "metadata": {},
   "source": [
    "3. Write a Python program to split and join a string ?"
   ]
  },
  {
   "cell_type": "code",
   "execution_count": 3,
   "id": "1605641e",
   "metadata": {},
   "outputs": [
    {
     "name": "stdout",
     "output_type": "stream",
     "text": [
      "Enter the string: INeuron Full Stack Data Science Course\n",
      "String after splitting is: ['INeuron', 'Full', 'Stack', 'Data', 'Science', 'Course']\n",
      "String after joiningis : INeuron Full Stack Data Science Course\n"
     ]
    }
   ],
   "source": [
    "def splitJoinString():\n",
    "    string = input('Enter the string: ')\n",
    "    print(f\"String after splitting is: {string.split(' ')}\")\n",
    "    print(f\"String after joiningis : {' '.join(string.split(' '))}\")\n",
    "\n",
    "splitJoinString()"
   ]
  },
  {
   "cell_type": "markdown",
   "id": "ab7019fd",
   "metadata": {},
   "source": [
    "4. Write a Python to check if a given string is binary string or not ?"
   ]
  },
  {
   "cell_type": "code",
   "execution_count": 4,
   "id": "92af1abb",
   "metadata": {},
   "outputs": [
    {
     "name": "stdout",
     "output_type": "stream",
     "text": [
      "Enter a string: 10110\n",
      "The string is a binary\n",
      "Enter a string: 2321\n",
      "The string is not a binary\n"
     ]
    }
   ],
   "source": [
    "def binary():\n",
    "    string = input('Enter a string: ')\n",
    "    bin_check = 0\n",
    "    for i in string:\n",
    "        if i in ['0','1']:\n",
    "            bin_check = 1\n",
    "            continue\n",
    "        else:\n",
    "            bin_check = 0\n",
    "            break\n",
    "    if bin_check == 1:\n",
    "        print('The string is a binary')\n",
    "    else:\n",
    "        print('The string is not a binary')\n",
    "binary()\n",
    "binary()"
   ]
  },
  {
   "cell_type": "markdown",
   "id": "de26afb0",
   "metadata": {},
   "source": [
    "5. Write a Python program to find uncommon words from two Strings ?"
   ]
  },
  {
   "cell_type": "code",
   "execution_count": 5,
   "id": "22d15fca",
   "metadata": {},
   "outputs": [
    {
     "name": "stdout",
     "output_type": "stream",
     "text": [
      "Enter the String 1: Machine Learning\n",
      "Enter the String 2: Deep Learning\n",
      "{'Machine', 'Deep'}\n"
     ]
    }
   ],
   "source": [
    "def unCommonWords():\n",
    "    in_string_1 = set(input(\"Enter the String 1: \").split(' '))\n",
    "    in_string_2 = set(input(\"Enter the String 2: \").split(' '))\n",
    "    out_string = (in_string_1.union(in_string_2)).difference(in_string_1.intersection(in_string_2))\n",
    "    print(out_string)\n",
    "\n",
    "unCommonWords()"
   ]
  },
  {
   "cell_type": "markdown",
   "id": "ddc4339b",
   "metadata": {},
   "source": [
    "6. Write a Python to find all duplicate characters in string ?"
   ]
  },
  {
   "cell_type": "code",
   "execution_count": 7,
   "id": "58d2128a",
   "metadata": {},
   "outputs": [
    {
     "name": "stdout",
     "output_type": "stream",
     "text": [
      "Enter a string: malayalam\n"
     ]
    },
    {
     "data": {
      "text/plain": [
       "['a', 'a', 'l', 'a', 'm']"
      ]
     },
     "execution_count": 7,
     "metadata": {},
     "output_type": "execute_result"
    }
   ],
   "source": [
    "def findduplicate():\n",
    "    string = input('Enter a string: ')\n",
    "    dup_list = []\n",
    "    non_dup_list = []\n",
    "    for i in string:\n",
    "        if i not in non_dup_list:\n",
    "            non_dup_list.append(i)\n",
    "        else:\n",
    "            dup_list.append(i)\n",
    "    return dup_list\n",
    "findduplicate()"
   ]
  },
  {
   "cell_type": "markdown",
   "id": "fefcc358",
   "metadata": {},
   "source": [
    "7. Write a Python Program to check if a string contains any special character?"
   ]
  },
  {
   "cell_type": "code",
   "execution_count": 8,
   "id": "20236af6",
   "metadata": {},
   "outputs": [
    {
     "name": "stdout",
     "output_type": "stream",
     "text": [
      "Enter a string: @india *is (my country)\n",
      "Special char in the string is ['@', '*', '(', ')']\n"
     ]
    }
   ],
   "source": [
    "def checkchar():\n",
    "    string = input('Enter a string: ')\n",
    "    sp_char = '[@_!#$%^&*()<>?/\\|}{~:]'\n",
    "    char_list = []\n",
    "    char = 0\n",
    "    for i in string:\n",
    "        if i in sp_char:\n",
    "            char_list.append(i)\n",
    "            char = 1\n",
    "    if char == 1:\n",
    "        print(f'Special char in the string is {char_list}')\n",
    "    else:\n",
    "        print('No special characters in the string entered')\n",
    "checkchar()"
   ]
  }
 ],
 "metadata": {
  "kernelspec": {
   "display_name": "Python 3",
   "language": "python",
   "name": "python3"
  },
  "language_info": {
   "codemirror_mode": {
    "name": "ipython",
    "version": 3
   },
   "file_extension": ".py",
   "mimetype": "text/x-python",
   "name": "python",
   "nbconvert_exporter": "python",
   "pygments_lexer": "ipython3",
   "version": "3.8.8"
  }
 },
 "nbformat": 4,
 "nbformat_minor": 5
}
