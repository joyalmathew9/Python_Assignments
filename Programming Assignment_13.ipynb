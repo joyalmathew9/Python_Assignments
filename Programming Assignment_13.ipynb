{
 "cells": [
  {
   "cell_type": "markdown",
   "id": "7cd76033",
   "metadata": {},
   "source": [
    "#### 1.Write a program that calculates and prints the value according to the given formula:"
   ]
  },
  {
   "cell_type": "raw",
   "id": "0ce24843",
   "metadata": {},
   "source": [
    "Q = Square root of [(2 * C * D)/H]\n",
    "Following are the fixed values of C and H:\n",
    "C is 50. H is 30.\n",
    "D is the variable whose values should be input to your program in a comma-separated sequence.\n",
    "Example: Let us assume the following comma separated input sequence is given to the program:100,150,180\n",
    "The output of the program should be: 18,22,24"
   ]
  },
  {
   "cell_type": "code",
   "execution_count": 1,
   "id": "513fbdcf",
   "metadata": {},
   "outputs": [
    {
     "name": "stdout",
     "output_type": "stream",
     "text": [
      "Enter the values of D: 100,150,180\n"
     ]
    },
    {
     "data": {
      "text/plain": [
       "[18, 22, 24]"
      ]
     },
     "execution_count": 1,
     "metadata": {},
     "output_type": "execute_result"
    }
   ],
   "source": [
    "def sqr():\n",
    "    import math\n",
    "    C = 50\n",
    "    H = 30\n",
    "    D = eval(input('Enter the values of D: '))\n",
    "    out = []\n",
    "    for i in D:\n",
    "        Q = round(math.sqrt((2*C*i)/H))\n",
    "        out.append(Q)\n",
    "    return out\n",
    "sqr()"
   ]
  },
  {
   "cell_type": "markdown",
   "id": "9d4c8b28",
   "metadata": {},
   "source": [
    "#### 2.Write a program which takes 2 digits, X,Y as input and generates a 2-dimensional array. The element value in the i-th row and j-th column of the array should be i*j."
   ]
  },
  {
   "cell_type": "raw",
   "id": "e2394a90",
   "metadata": {},
   "source": [
    "Note: i=0,1.., X-1; j=0,1,¡Y-1.\n",
    "Example: Suppose the following inputs are given to the program: 3,5\n",
    "Then, the output of the program should be:[[0, 0, 0, 0, 0], [0, 1, 2, 3, 4], [0, 2, 4, 6, 8]]\n",
    "    "
   ]
  },
  {
   "cell_type": "code",
   "execution_count": 3,
   "id": "fd645508",
   "metadata": {},
   "outputs": [
    {
     "name": "stdout",
     "output_type": "stream",
     "text": [
      "Enter number of rows: 3\n",
      "Enter number of columns: 5\n",
      "[[0, 0, 0, 0, 0], [0, 1, 2, 3, 4], [0, 2, 4, 6, 8]]\n"
     ]
    }
   ],
   "source": [
    "rows = eval(input('Enter number of rows: '))\n",
    "columns = eval(input('Enter number of columns: '))\n",
    "arr = []\n",
    "for i in range(rows):\n",
    "    row = []\n",
    "    for j in range(columns):\n",
    "        row.append(i*j)\n",
    "    arr.append(row)\n",
    "print(arr)"
   ]
  },
  {
   "cell_type": "markdown",
   "id": "50d2b365",
   "metadata": {},
   "source": [
    "#### 3.Write a program that accepts a comma separated sequence of words as input and prints the words in a comma-separated sequence after sorting them alphabetically ?"
   ]
  },
  {
   "cell_type": "raw",
   "id": "f729a59d",
   "metadata": {},
   "source": [
    "Suppose the following input is supplied to the program: without,hello,bag,world\n",
    "Then, the output should be: bag,hello,without,world"
   ]
  },
  {
   "cell_type": "code",
   "execution_count": 4,
   "id": "233859da",
   "metadata": {},
   "outputs": [
    {
     "name": "stdout",
     "output_type": "stream",
     "text": [
      "Enter the words: without,hello,bag,world\n"
     ]
    },
    {
     "data": {
      "text/plain": [
       "['bag', 'hello', 'without', 'world']"
      ]
     },
     "execution_count": 4,
     "metadata": {},
     "output_type": "execute_result"
    }
   ],
   "source": [
    "def sort():\n",
    "    words = input('Enter the words: ')\n",
    "    splitted = words.split(sep=',')\n",
    "    out = sorted(splitted)\n",
    "    return out\n",
    "sort()"
   ]
  },
  {
   "cell_type": "markdown",
   "id": "38cf8b46",
   "metadata": {},
   "source": [
    "#### 4.Write a program that accepts a sequence of whitespace separated words as input and prints the words after removing all duplicate words and sorting them alphanumerically."
   ]
  },
  {
   "cell_type": "raw",
   "id": "57f53a44",
   "metadata": {},
   "source": [
    "Suppose the following input is supplied to the program: hello world and practice makes perfect and hello world again\n",
    "Then, the output should be: again and hello makes perfect practice world"
   ]
  },
  {
   "cell_type": "code",
   "execution_count": 5,
   "id": "415b794e",
   "metadata": {},
   "outputs": [
    {
     "name": "stdout",
     "output_type": "stream",
     "text": [
      "Enter the string: hello world and practice makes perfect and hello world again\n"
     ]
    },
    {
     "data": {
      "text/plain": [
       "'again and hello makes perfect practice world'"
      ]
     },
     "execution_count": 5,
     "metadata": {},
     "output_type": "execute_result"
    }
   ],
   "source": [
    "def sort2():\n",
    "    string = input('Enter the string: ')\n",
    "    splitted = string.split(sep=' ')\n",
    "    non_dup = []\n",
    "    for i in splitted:\n",
    "        if i not in non_dup:\n",
    "            non_dup.append(i)\n",
    "    non_dup.sort()\n",
    "    non_dup = (' ').join(non_dup)\n",
    "    return non_dup\n",
    "sort2()"
   ]
  },
  {
   "cell_type": "markdown",
   "id": "be461ba4",
   "metadata": {},
   "source": [
    "#### 5.Write a program that accepts a sentence and calculate the number of letters and digits."
   ]
  },
  {
   "cell_type": "raw",
   "id": "dbce1214",
   "metadata": {},
   "source": [
    "Suppose the following input is supplied to the program: hello world! 123\n",
    "Then, the output should be:\n",
    "LETTERS 10\n",
    "DIGITS 3"
   ]
  },
  {
   "cell_type": "code",
   "execution_count": 6,
   "id": "d1b70e7c",
   "metadata": {},
   "outputs": [
    {
     "name": "stdout",
     "output_type": "stream",
     "text": [
      "Enter a string: hello world! 123\n",
      "LETTERS 10\n",
      "DIGITS 3\n"
     ]
    }
   ],
   "source": [
    "def count():\n",
    "    string = input('Enter a string: ')\n",
    "    letter_count = 0\n",
    "    num_count = 0\n",
    "    for i in string:\n",
    "        if i.isdigit():\n",
    "            num_count+=1\n",
    "        elif i.isalpha():\n",
    "            letter_count+=1\n",
    "    print(f'LETTERS {letter_count}')\n",
    "    print(f'DIGITS {num_count}')\n",
    "    \n",
    "count()"
   ]
  },
  {
   "cell_type": "markdown",
   "id": "1017f3a0",
   "metadata": {},
   "source": [
    "#### 6.A website requires the users to input username and password to register. Write a program to check the validity of password input by users."
   ]
  },
  {
   "cell_type": "raw",
   "id": "b7cb1385",
   "metadata": {},
   "source": [
    "Following are the criteria for checking the password:\n",
    "\n",
    "At least 1 letter between [a-z]\n",
    "At least 1 number between [0-9]\n",
    "At least 1 letter between [A-Z]\n",
    "At least 1 character from [$#@]\n",
    "Minimum length of transaction password: 6\n",
    "Maximum length of transaction password: 12\n",
    "Your program should accept a sequence of comma separated passwords and will check them according to the above criteria. Passwords that match the criteria are to be printed, each separated by a comma.\n",
    "\n",
    "Example:\n",
    "If the following passwords are given as input to the program: ABd1234@1,a F1#,2w3E*,2We3345\n",
    "Then, the output of the program should be:ABd1234@1"
   ]
  },
  {
   "cell_type": "code",
   "execution_count": 7,
   "id": "0cf33ead",
   "metadata": {},
   "outputs": [
    {
     "name": "stdout",
     "output_type": "stream",
     "text": [
      "Enter the Input String: ABd1234@1,a F1#,2w3E*,2We3345\n",
      "ABd1234@1\n"
     ]
    }
   ],
   "source": [
    "def checkPassword():\n",
    "    string = input(\"Enter the Input String: \")\n",
    "    small_list = \"abcdefghijklmnopqrstuvwxyz\"\n",
    "    cap_list = \"ABCDEFGHIJKLMNOPQRSTUVWXYZ\"\n",
    "    num_list = \"0123456789\"\n",
    "    special_list = \"$#@\"\n",
    "    for ele in string.split(\",\"):\n",
    "        if len(ele) <= 12 and len(ele) >=6 :\n",
    "            if any(i.isupper() for i in ele):\n",
    "                if any(i.islower() for i in ele):\n",
    "                    if any(i for i in ele if i in special_list):\n",
    "                        print(ele)\n",
    "                               \n",
    "checkPassword() \n",
    "        "
   ]
  }
 ],
 "metadata": {
  "kernelspec": {
   "display_name": "Python 3",
   "language": "python",
   "name": "python3"
  },
  "language_info": {
   "codemirror_mode": {
    "name": "ipython",
    "version": 3
   },
   "file_extension": ".py",
   "mimetype": "text/x-python",
   "name": "python",
   "nbconvert_exporter": "python",
   "pygments_lexer": "ipython3",
   "version": "3.8.8"
  }
 },
 "nbformat": 4,
 "nbformat_minor": 5
}
